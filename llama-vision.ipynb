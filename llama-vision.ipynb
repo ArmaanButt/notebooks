{
 "cells": [
  {
   "cell_type": "code",
   "execution_count": 7,
   "metadata": {},
   "outputs": [
    {
     "name": "stdout",
     "output_type": "stream",
     "text": [
      "Collecting pdf2image\n",
      "  Downloading pdf2image-1.17.0-py3-none-any.whl.metadata (6.2 kB)\n",
      "Requirement already satisfied: pillow in /Users/armaan/.pyenv/versions/3.12.7/lib/python3.12/site-packages (from pdf2image) (10.4.0)\n",
      "Downloading pdf2image-1.17.0-py3-none-any.whl (11 kB)\n",
      "Installing collected packages: pdf2image\n",
      "Successfully installed pdf2image-1.17.0\n",
      "\n",
      "\u001b[1m[\u001b[0m\u001b[34;49mnotice\u001b[0m\u001b[1;39;49m]\u001b[0m\u001b[39;49m A new release of pip is available: \u001b[0m\u001b[31;49m24.2\u001b[0m\u001b[39;49m -> \u001b[0m\u001b[32;49m24.3.1\u001b[0m\n",
      "\u001b[1m[\u001b[0m\u001b[34;49mnotice\u001b[0m\u001b[1;39;49m]\u001b[0m\u001b[39;49m To update, run: \u001b[0m\u001b[32;49mpip install --upgrade pip\u001b[0m\n",
      "Note: you may need to restart the kernel to use updated packages.\n"
     ]
    }
   ],
   "source": [
    "%pip install pdf2image"
   ]
  },
  {
   "cell_type": "code",
   "execution_count": 31,
   "metadata": {},
   "outputs": [],
   "source": [
    "import pickle\n",
    "\n",
    "from ollama import chat\n",
    "from glob import glob\n",
    "from tqdm import tqdm\n",
    "from pdf2image import convert_from_path\n"
   ]
  },
  {
   "cell_type": "code",
   "execution_count": null,
   "metadata": {},
   "outputs": [
    {
     "data": {
      "text/plain": [
       "[<PIL.JpegImagePlugin.JpegImageFile image mode=RGB size=1700x2200>,\n",
       " <PIL.JpegImagePlugin.JpegImageFile image mode=RGB size=1700x2200>,\n",
       " <PIL.JpegImagePlugin.JpegImageFile image mode=RGB size=1700x2200>,\n",
       " <PIL.JpegImagePlugin.JpegImageFile image mode=RGB size=1700x2200>,\n",
       " <PIL.JpegImagePlugin.JpegImageFile image mode=RGB size=1700x2200>,\n",
       " <PIL.JpegImagePlugin.JpegImageFile image mode=RGB size=1700x2200>,\n",
       " <PIL.JpegImagePlugin.JpegImageFile image mode=RGB size=1700x2200>,\n",
       " <PIL.JpegImagePlugin.JpegImageFile image mode=RGB size=1700x2200>,\n",
       " <PIL.JpegImagePlugin.JpegImageFile image mode=RGB size=1700x2200>,\n",
       " <PIL.JpegImagePlugin.JpegImageFile image mode=RGB size=1700x2200>,\n",
       " <PIL.JpegImagePlugin.JpegImageFile image mode=RGB size=1700x2200>,\n",
       " <PIL.JpegImagePlugin.JpegImageFile image mode=RGB size=1700x2200>,\n",
       " <PIL.JpegImagePlugin.JpegImageFile image mode=RGB size=1700x2200>,\n",
       " <PIL.JpegImagePlugin.JpegImageFile image mode=RGB size=1700x2200>,\n",
       " <PIL.JpegImagePlugin.JpegImageFile image mode=RGB size=1700x2200>,\n",
       " <PIL.JpegImagePlugin.JpegImageFile image mode=RGB size=1700x2200>]"
      ]
     },
     "execution_count": 30,
     "metadata": {},
     "output_type": "execute_result"
    }
   ],
   "source": [
    "convert_from_path('./amazon-dynamo-sosp2007.pdf', output_folder='./images', fmt=\"jpeg\")"
   ]
  },
  {
   "cell_type": "code",
   "execution_count": null,
   "metadata": {},
   "outputs": [
    {
     "name": "stdout",
     "output_type": "stream",
     "text": [
      "The image shows a page from an academic paper titled \"Dynamo: Amazon's Highly Available Key-Value Store\" published in the Proceedings of the 2007 ACM SIGMOD International Conference on Management of Data. The paper discusses the design and implementation of Dynamo, a highly available key-value store developed by Amazon Web Services.\n",
      "\n",
      "Here are the key points about the image:\n",
      "\n",
      "* **Authors**: \n",
      "\t+ Giuseppe DeCandia\n",
      "\t+ Deniz Hastorun\n",
      "\t+ Madan Jampani\n",
      "\t+ Gunavardhan Kakulapati\n",
      "\t+ Avinash Lakshman\n",
      "\t+ Alex Pilchin\n",
      "\t+ Swaminathan Sivasubramanian\n",
      "\t+ Peter Vosshall\n",
      "\t+ Werner Vogels\n",
      "\n",
      "* **Abstract**:\n",
      "\t+ Reliability at massive scale is one of the biggest challenges faced by Amazon.com, with even minor outages having significant financial consequences.\n",
      "\t+ The paper presents the design and implementation of Dynamo, a highly available key-value store that provides an \"always-on\" experience.\n",
      "\n",
      "* **Categories and Subject Descriptors**: \n",
      "\t+ D.4.2 [Operating Systems]: Storage Management\n",
      "\t+ D.4.5 [Operating Systems]: Reliability\n",
      "\n",
      "* **General Terms**: \n",
      "\t+ Algorithms\n",
      "\t+ Management\n",
      "\t+ Measurement\n",
      "\t+ Performance\n",
      "\t+ Design\n",
      "\t+ Reliability\n",
      "\n",
      "* **Keywords**:\n",
      "\t+ Dynamo\n",
      "\t+ Amazon Web Services\n",
      "\t+ Key-value store\n",
      "\t+ Highly available\n",
      "\t+ Reliability\n",
      "\t+ Scalability\n",
      "\n",
      "* **Copyright Information**: \n",
      "\t+ Copyright 2007 ACM.\n",
      "\n",
      "Overall, the image provides an overview of the paper's content and authors, as well as its publication details. It can be used as a reference for researchers and practitioners interested in distributed systems and cloud computing.\n"
     ]
    }
   ],
   "source": [
    "response = chat(model='llama3.2-vision', messages=[\n",
    "    {\n",
    "        'role': 'user',\n",
    "        'content': 'Generate metadata from these images of PDFs to help as a search retriver.',\n",
    "        'images': ['./images/5bbab23d-c456-4392-b107-80b2ae5928b4-01.jpg']\n",
    "    }\n",
    "])\n",
    "print(response.message.content)"
   ]
  },
  {
   "cell_type": "code",
   "execution_count": 32,
   "metadata": {},
   "outputs": [],
   "source": [
    "image_paths = glob('./images/*.jpg')"
   ]
  },
  {
   "cell_type": "code",
   "execution_count": 23,
   "metadata": {},
   "outputs": [
    {
     "name": "stderr",
     "output_type": "stream",
     "text": [
      "100%|██████████| 16/16 [24:03<00:00, 90.23s/it]\n"
     ]
    }
   ],
   "source": [
    "image_summaries = []\n",
    "\n",
    "IMAGE_PAGE_EXTRACTION_PROMPT = \"\"\"\n",
    "    Extract summaries of the information from these images of PDFs to help a search retriver. \n",
    "    Create a summary of the content, sections headers in the document, \n",
    "    and information regarding images or charts in the document.\n",
    "\"\"\"\n",
    "\n",
    "for image_path in tqdm(image_paths):\n",
    "    response = chat(model='llama3.2-vision', messages=[\n",
    "        {\n",
    "            'role': 'user',\n",
    "            'content': IMAGE_PAGE_EXTRACTION_PROMPT,\n",
    "            'images': [image_path]\n",
    "        }\n",
    "    ])\n",
    "    extraction = response.message.content\n",
    "\n",
    "    image_summaries.append({\n",
    "        'image_id': image_path.split('/')[-1],\n",
    "        'summary': extraction\n",
    "    })"
   ]
  },
  {
   "cell_type": "code",
   "execution_count": 24,
   "metadata": {},
   "outputs": [],
   "source": [
    "# TODO: Extract text from PDF and persist chunks."
   ]
  },
  {
   "cell_type": "code",
   "execution_count": 26,
   "metadata": {},
   "outputs": [
    {
     "data": {
      "text/plain": [
       "[{'image_id': 'aef9fd24-f6ea-469a-9890-aa4d34cc50ec-15.jpg',\n",
       "  'summary': 'The image displays a page from an academic paper, specifically the acknowledgments section. The purpose of this page is to acknowledge the contributions and support received by the authors during their research.\\n\\nHere are the key points about the content:\\n\\n* **Acknowledgments Section**: \\n  * The acknowledgments section is located at the bottom left corner of the page.\\n  * It contains a list of names, institutions, or organizations that have provided financial support, data, or other resources for the study.\\n* **References Cited**:\\n  * The references cited in this section are listed in alphabetical order by author\\'s last name.\\n  * Each reference is formatted according to a specific citation style (likely APA or MLA).\\n* **Page Layout and Design**:\\n  * The page has a clear header with the title of the paper, \"Acknowledgements,\" centered at the top.\\n  * The text is arranged in a single column, with headings and subheadings in bold font.\\n\\nThere are no images or charts on this page. The content is purely textual, providing information about the authors\\' acknowledgments and references cited.\\n\\nIn summary, this page acknowledges the contributions of various individuals and organizations to the research project, while also listing the sources used in the study. The page layout is clean and organized, making it easy to read and navigate.'},\n",
       " {'image_id': 'aef9fd24-f6ea-469a-9890-aa4d34cc50ec-01.jpg',\n",
       "  'summary': 'The image presents a page from an academic paper titled \"Dynamo: Amazon\\'s Highly Available Key-Value Store.\" The title is prominently displayed at the top of the page, followed by the authors\\' names and affiliations.\\n\\n**Summary**\\n\\nThis article discusses Dynamo, a highly available key-value store developed by Amazon. The paper explores its design principles, architecture, and features that enable it to provide high availability and performance in large-scale distributed systems.\\n\\n**Section Headers**\\n\\n* **Abstract**: A brief summary of the paper\\'s content.\\n* **Categories and Subject Descriptors**: Keywords related to the topic.\\n* **General Terms**: Additional keywords describing the content.\\n* **Introduction**: An overview of the problem being addressed and the proposed solution.\\n* **Overview**: A high-level description of Dynamo\\'s architecture and features.\\n\\n**Key Points**\\n\\n* Dynamo is a highly available key-value store designed for large-scale distributed systems.\\n* It uses a combination of master-slave replication, dynamic partitioning, and anti-entropy to ensure data consistency and availability.\\n* The paper discusses the trade-offs between different design choices and their impact on system performance and scalability.\\n\\n**Visual Elements**\\n\\nThere are no images or charts in this document.'},\n",
       " {'image_id': 'aef9fd24-f6ea-469a-9890-aa4d34cc50ec-14.jpg',\n",
       "  'summary': 'The provided document is a page from a technical paper discussing the performance evaluation of a system using two different classification approaches: \"clust-iter\" and \"autoregressive\". The page features a table comparing the results of these two methods, with clust-iter outperforming autoregressive in terms of accuracy.\\n\\n**Key Findings:**\\n\\n*   **Clust-iter performs better:** Clust-iter achieves an accuracy of 88.5% compared to autoregressive\\'s 85.1%.\\n*   **Autoregressive has higher standard deviation:** Autoregressive has a standard deviation of 2.35, while clust-iter has a standard deviation of 1.94.\\n\\n**Summary:**\\n\\nThe document presents a comparison of two classification methods, with clust-iter demonstrating superior performance in terms of accuracy. The results suggest that clust-iter is a more reliable choice for classification tasks, particularly when dealing with noisy or uncertain data.\\n\\n**Section Headers:**\\n\\n*   **Table 2:** Comparison of Clust-Iter and Autoregressive Results\\n*   **Discussion:** Analysis of the Results\\n\\n**Image/Chart Description:**\\n\\nThe document features a table comparing the results of clust-iter and autoregressive classification methods. The table includes columns for accuracy, standard deviation, and other relevant metrics.\\n\\n**Conclusion:**\\n\\nIn conclusion, the provided document presents a technical analysis of the performance evaluation of a system using two different classification approaches. The results suggest that clust-iter is a more effective method than autoregressive in terms of accuracy.'},\n",
       " {'image_id': 'aef9fd24-f6ea-469a-9890-aa4d34cc50ec-02.jpg',\n",
       "  'summary': 'The image presents a page from a technical document, likely an academic paper or research report, focusing on the topic of \"Dytiscidae\" (a family of aquatic beetles) and its relationship with water quality.\\n\\n**Summary:**\\n\\n* The document discusses the importance of Dytiscidae in assessing water quality and their role as indicators of environmental health.\\n* It highlights the challenges faced by researchers in studying these insects due to their limited understanding of their ecology and behavior.\\n* The document also mentions the need for further research on the impacts of climate change on Dytiscidae populations.\\n\\n**Section Headers:**\\n\\n* **Introduction**\\n\\t+ Introduces the topic of Dytiscidae and its significance in environmental monitoring\\n\\t+ Highlights the limitations of current knowledge on the ecology and behavior of these insects\\n* **Methods**\\n\\t+ Describes the methods used to collect and analyze data on Dytiscidae populations\\n\\t+ Discusses the challenges faced by researchers in studying these insects\\n* **Results**\\n\\t+ Presents the findings of the study, including the effects of water quality on Dytiscidae populations\\n\\t+ Highlights the importance of considering climate change impacts on these populations\\n* **Discussion**\\n\\t+ Interprets the results of the study and their implications for environmental monitoring\\n\\t+ Discusses the limitations of the study and areas for future research\\n\\n**Images/Charts:**\\n\\n* A table comparing the effects of different water quality parameters on Dytiscidae populations\\n* A graph showing the relationship between climate change and Dytiscidae population size\\n\\nOverall, the document provides an overview of the current state of knowledge on Dytiscidae ecology and behavior, highlights the challenges faced by researchers in studying these insects, and discusses the importance of considering climate change impacts on these populations.'},\n",
       " {'image_id': 'aef9fd24-f6ea-469a-9890-aa4d34cc50ec-16.jpg',\n",
       "  'summary': 'The image displays a page from an academic paper or article, featuring two citations in the middle of the page. The citations are presented in a standard format, with authors\\' names, publication titles, and publication dates.\\n\\nHere is a summary of the content:\\n\\n* **Citation 1:**\\n\\t+ Authors: D. R. Thomas, M. K. Petersen\\n\\t+ Publication Title: \"Managing update weather in Illinois: A spatial model for evaluating alternative strategies\"\\n\\t+ Published In: Journal of Applied Meteorology and Climatology\\n\\t+ Volume/Issue: Vol. 43, No. 3\\n\\t+ Pages: 257-274\\n* **Citation 2:**\\n\\t+ Authors: M. C. Lemos, P. J. Miller\\n\\t+ Publication Title: \"Anticipating a wetter future: Impacts of climate change on water resources in the Upper Colorado River Basin\"\\n\\t+ Published In: Journal of Hydrology\\n\\t+ Volume/Issue: Vol. 384, No. 1-2\\n\\t+ Pages: 55-66\\n\\nThere are no images or charts present in this page. The citations provide information about research studies related to weather management and climate change impacts on water resources.\\n\\nIn summary, the image displays two academic citations that discuss various aspects of weather and climate-related topics.'},\n",
       " {'image_id': 'aef9fd24-f6ea-469a-9890-aa4d34cc50ec-03.jpg',\n",
       "  'summary': 'The image shows two pages from a textbook or academic paper, with text and diagrams. The purpose of the image is to provide information on the topic of \"Figures 7-1: Hierarchical architectures\" and \"3.2 Design Considerations\".\\n\\nHere are the main points from the image:\\n\\n* **Page 1: Figures 7-1: Hierarchical Architectures**\\n\\t+ A diagram showing a hierarchical architecture with multiple layers, including input/output devices, processors, memory, and control units.\\n\\t+ The diagram is labeled as \"Figures 7-1\" and has a key explaining the different components.\\n* **Page 2: Section 3.2 Design Considerations**\\n\\t+ A section of text discussing design considerations for computer systems, including:\\n\\t\\t- Input/Output devices\\n\\t\\t- Processors\\n\\t\\t- Memory\\n\\t\\t- Control units\\n\\t+ The section includes a numbered list with bullet points explaining each point in more detail.\\n\\nOverall, the image provides information on the architecture of computer systems and design considerations for building efficient and effective systems. There are no significant changes or comparisons made in the image.'},\n",
       " {'image_id': 'aef9fd24-f6ea-469a-9890-aa4d34cc50ec-07.jpg',\n",
       "  'summary': 'The provided image appears to be two pages from a technical paper discussing the implementation of an object-oriented programming system.\\n\\n**Page 1**\\n\\n*   The first page contains several paragraphs of text that appear to be discussing the design and implementation of a programming language.\\n    *   The text describes the use of a stack-based approach for memory management, with each object being allocated on the top of the stack.\\n        *   This approach is contrasted with other methods, such as garbage collection or reference counting.\\n            *   The advantages and disadvantages of these approaches are discussed in detail.\\n                *   The text also touches on the use of virtual machines to provide a platform-independent environment for running code.\\n                    *   The virtual machine is responsible for managing memory allocation and deallocation, as well as providing a set of basic operations that can be used by programs.\\n                        *   The paper discusses the design and implementation of the virtual machine, including its architecture and programming model.\\n                            *   The text also explores the use of object-oriented concepts, such as encapsulation, inheritance, and polymorphism, to provide a high-level interface for programmers.\\n\\n**Page 2**\\n\\n*   The second page continues the discussion from the first page, focusing on the implementation details of the virtual machine.\\n    *   The text describes how objects are created and managed within the system.\\n        *   It also discusses the use of inheritance and polymorphism to provide a flexible and extensible programming model.\\n            *   The paper provides an example of how the object-oriented concepts can be used in practice, showing how they enable programmers to write more efficient and maintainable code.\\n                *   The text also touches on the performance implications of using object-oriented programming techniques, including the overhead associated with virtual method invocation.\\n\\n**Summary**\\n\\nIn summary, the provided image appears to be two pages from a technical paper discussing the implementation of an object-oriented programming system. The paper focuses on the design and implementation of a virtual machine that provides a platform-independent environment for running code, using object-oriented concepts such as encapsulation, inheritance, and polymorphism to provide a high-level interface for programmers.'},\n",
       " {'image_id': 'aef9fd24-f6ea-469a-9890-aa4d34cc50ec-13.jpg',\n",
       "  'summary': 'The image presents a page from an academic paper focused on the topic of \"Divergent Versions: When and How Many?\" The page is divided into two main sections:\\n\\n**Section 1: Introduction**\\n\\n* The section begins with a brief introduction to the concept of divergent versions in software development.\\n* It highlights the importance of understanding when and how many divergent versions are necessary for effective collaboration.\\n\\n**Section 2: Experimental Setup**\\n\\n* This section describes the experimental setup used to test the effects of divergent versions on team performance.\\n* It explains that a group of students were divided into teams, each working on a different version of a project.\\n* The teams were given a set of tasks to complete, and their progress was monitored.\\n\\n**Section 3: Results**\\n\\n* This section presents the results of the experiment, including:\\n\\t+ Time taken by each team to complete the tasks\\n\\t+ Number of errors made by each team\\n\\t+ Team performance metrics such as productivity and efficiency\\n\\n**Section 4: Discussion**\\n\\n* The final section discusses the implications of the findings for software development teams.\\n* It highlights the importance of considering divergent versions in project planning and suggests strategies for managing them effectively.\\n\\n**Visual Elements**\\n\\n* A graph is included to illustrate the relationship between team size and performance.\\n* The graph shows that smaller teams tend to perform better than larger ones, especially when working on multiple versions of a project.\\n\\nOverall, the page provides an overview of the research methodology and findings related to divergent versions in software development.'},\n",
       " {'image_id': 'aef9fd24-f6ea-469a-9890-aa4d34cc50ec-12.jpg',\n",
       "  'summary': 'The provided image appears to be a page from an academic paper or technical document, focusing on strategies for optimization and performance improvement. The content is organized into three distinct sections, each addressing specific aspects of these concepts.\\n\\n**Section 1: Introduction**\\n\\n*   **Title:** \"Strategy 1\"\\n*   **Content:** This section introduces the first strategy, likely detailing a methodological approach to optimizing performance or efficiency in a particular context.\\n*   **Key Points:**\\n    *   **Methodological Approach:** The introduction outlines a framework for analyzing and improving processes or systems.\\n\\n**Section 2: Methodology**\\n\\n*   **Title:** \"Strategy 2\"\\n*   **Content:** This section delves into the second strategy, providing detailed methodologies for implementing the approach outlined in Section 1.\\n*   **Key Points:**\\n    *   **Implementation Framework:** The methodology section offers a structured plan for applying the strategic framework to real-world scenarios.\\n\\n**Section 3: Case Studies**\\n\\n*   **Title:** \"Strategy 3\"\\n*   **Content:** This final section presents case studies or examples that illustrate the application and effectiveness of the strategies outlined in Sections 1 and 2.\\n*   **Key Points:**\\n    *   **Real-World Applications:** The case studies provide concrete evidence of how the strategies can be successfully implemented across different contexts.\\n\\n**Visual Elements**\\n\\n*   **Diagrams/Flowcharts:** The document includes diagrams or flowcharts to visualize the strategic frameworks, enhancing understanding and clarity.\\n*   **Tables/Figures:** These visual aids are used to present data or illustrate key concepts, facilitating easier comprehension of complex information.\\n\\n**Summary**\\n\\nThe document presents a comprehensive framework for optimizing performance through three distinct strategies. It offers a structured approach to implementation, supported by real-world examples that demonstrate the effectiveness of these methods. The inclusion of diagrams and tables enhances the reader\\'s ability to grasp and apply the concepts effectively.'},\n",
       " {'image_id': 'aef9fd24-f6ea-469a-9890-aa4d34cc50ec-06.jpg',\n",
       "  'summary': 'The provided document appears to be a page from a technical manual or instructional guide related to machine learning or data analysis. The main points of this document are:\\n\\n*   **Data Preparation**: The document discusses the importance of preparing data for use in machine learning models.\\n    *   It emphasizes the need to clean and preprocess data, including handling missing values and outliers.\\n    *   The document suggests using techniques such as normalization and feature scaling to prepare data.\\n*   **Model Evaluation**: The document explains how to evaluate the performance of a machine learning model.\\n    *   It discusses metrics such as accuracy, precision, recall, and F1 score for evaluating classification models.\\n    *   The document also mentions the use of metrics such as mean squared error and root mean squared error for regression models.\\n\\nThe document is structured into sections with headings:\\n\\n*   **Data Preparation**: This section discusses the importance of preparing data for machine learning models.\\n*   **Model Evaluation**: This section explains how to evaluate the performance of a machine learning model.\\n\\nThere are no images or charts in this document.'},\n",
       " {'image_id': 'aef9fd24-f6ea-469a-9890-aa4d34cc50ec-10.jpg',\n",
       "  'summary': 'The image presents a page from a technical document focused on dynamic systems modeling, specifically discussing the application of a new method for simulating complex dynamical behavior.\\n\\n**Summary:**\\nThis page provides an introduction to the topic of dynamic systems modeling, highlighting the limitations of traditional methods and introducing a novel approach based on the use of \"Dynamic Systems\" equations. The content is technical in nature, with mathematical equations and formulas used throughout.\\n\\n**Key Sections:**\\n\\n* **Introduction:** A brief overview of dynamic systems modeling and its importance.\\n* **Traditional Methods:** Critique of existing approaches to simulating complex dynamical behavior.\\n* **New Methodology:** Introduction to the new method based on \"Dynamic Systems\" equations, with a focus on its advantages over traditional methods.\\n\\n**Technical Content:**\\n\\n* The page includes several mathematical equations and formulas related to dynamic systems modeling.\\n* Technical terms such as \"state space,\" \"transition function,\" and \"dynamical system\" are used throughout the text.\\n* References to other sources and studies in the field of dynamic systems modeling are provided.\\n\\n**Visual Elements:**\\n\\n* There is one image on this page, which appears to be a graph or chart illustrating some aspect of the new methodology.\\n* The text includes several equations and formulas that are likely represented visually using symbols and mathematical notation.\\n\\nOverall, this page provides an overview of the topic of dynamic systems modeling and introduces a new method for simulating complex dynamical behavior. The content is technical in nature, with a focus on mathematical equations and formulas.'},\n",
       " {'image_id': 'aef9fd24-f6ea-469a-9890-aa4d34cc50ec-04.jpg',\n",
       "  'summary': 'The provided documents are pages from a book about computer science, specifically focusing on distributed systems and databases.\\n\\n**Document 1: Page 205**\\n\\n*   **Section Headers:**\\n    *   \"3.2 Distributed Systems\"\\n    *   \"3.2.1 Introduction to Distributed Systems\"\\n*   **Summary:**\\n    The section discusses the concept of distributed systems, where multiple computers are connected together to achieve a common goal. It introduces key terms such as nodes, links, and processes, and explains how they interact with each other.\\n*   **Key Points:**\\n    *   A distributed system is a collection of interconnected computers that work together to solve complex problems.\\n    *   Nodes represent individual computers or devices in the system.\\n    *   Links refer to the connections between nodes.\\n    *   Processes are programs running on nodes.\\n\\n**Document 2: Page 209**\\n\\n*   **Section Headers:**\\n    *   \"3.2.2 Characteristics of Distributed Systems\"\\n    *   \"3.2.3 Challenges in Distributed Systems\"\\n*   **Summary:**\\n    The section highlights the characteristics and challenges of distributed systems. It explains how these systems can provide benefits such as scalability, fault tolerance, and high availability but also come with difficulties like communication overhead, synchronization issues, and data consistency problems.\\n*   **Key Points:**\\n    *   Distributed systems are characterized by their ability to scale horizontally, providing increased processing power and storage capacity.\\n    *   They offer improved fault tolerance and high availability due to the redundancy of components.\\n    *   However, they introduce challenges such as communication overhead, synchronization issues, and data consistency problems.\\n\\n**Document 3: Page 211**\\n\\n*   **Section Headers:**\\n    *   \"3.2.4 Types of Distributed Systems\"\\n*   *   \"3.2.5 Real-World Applications of Distributed Systems\"\\n*   **Summary:**\\n    The section categorizes distributed systems into different types based on their architecture and data replication strategy. It also discusses real-world applications where these systems are used, including cloud computing platforms, social networks, and online banking systems.\\n*   **Key Points:**\\n    *   Distributed systems can be classified as client-server, peer-to-peer, or hybrid architectures.\\n    *   Cloud computing platforms, social networks, and online banking systems rely on distributed systems for scalability and reliability.\\n\\n**Document 4: Page 213**\\n\\n*   **Section Headers:**\\n    *   \"3.2.6 Challenges in Distributed Systems\"\\n    *   \"3.2.7 Solutions to Challenges in Distributed Systems\"\\n*   **Summary:**\\n    The section delves into the challenges faced by distributed systems, such as ensuring data consistency across nodes and managing communication overhead. It presents solutions to these challenges, including techniques like two-phase commit protocols and optimistic concurrency control.\\n*   **Key Points:**\\n    *   Ensuring data consistency is crucial in distributed systems, particularly when multiple nodes update shared resources.\\n    *   Techniques like two-phase commit protocols and optimistic concurrency control can help manage communication overhead and ensure data integrity.\\n\\n**Document 5: Page 215**\\n\\n*   **Section Headers:**\\n    *   \"3.2.8 Case Study: Google\\'s Distributed File System\"\\n*   **Summary:**\\n    The section provides a case study of Google\\'s distributed file system, highlighting its architecture and how it addresses the challenges mentioned earlier.\\n*   **Key Points:**\\n    *   Google\\'s distributed file system is designed to handle large amounts of data efficiently while ensuring high availability and fault tolerance.\\n    *   It uses a master-slave architecture with multiple masters providing redundancy for increased reliability.\\n\\nIn summary, these documents provide an overview of distributed systems, their characteristics, challenges, and solutions. They cover topics such as the definition and types of distributed systems, real-world applications, and case studies like Google\\'s distributed file system. Understanding these concepts is essential for designing and developing efficient and reliable distributed systems.'},\n",
       " {'image_id': 'aef9fd24-f6ea-469a-9890-aa4d34cc50ec-05.jpg',\n",
       "  'summary': 'The image presents a page from a technical document, likely an academic paper or research report, focusing on the topic of Dynamic Systems. The page is divided into three main sections: Table 1, Text, and Images.\\n\\n**Table 1**\\n\\n*   **Title:** \"Table 1: Summary of techniques used in Dynamic systems\"\\n*   **Columns:** \\n    *   \"Problem\"\\n    *   \"Technique\"\\n    *   \"Advantages\"\\n*   **Rows:** \\n    *   \"Prediction\" - \"Modeling\", \"Machine Learning\", \"Advantageous for large datasets\"\\n    *   \"Control\" - \"Feedback Control\", \"Optimization\", \"Effective in managing complex systems\"\\n    *   \"Identification\" - \"System Identification\", \"Modeling\", \"Helps understand system behavior\"\\n\\n**Text**\\n\\n*   **Section 1:** \"Dynamic Systems: An Overview\"\\n\\t+   Defines dynamic systems and their importance\\n\\t+   Discusses the challenges of modeling and controlling dynamic systems\\n*   **Section 2:** \"Techniques for Dynamic Systems\"\\n\\t+   Introduces various techniques used in dynamic systems, including prediction, control, and identification\\n\\t+   Provides a brief overview of each technique\\'s advantages\\n*   **Section 3:** \"Applications of Dynamic Systems\"\\n\\t+   Discusses the applications of dynamic systems in fields such as engineering, economics, and biology\\n\\t+   Highlights the importance of understanding dynamic systems in these areas\\n\\n**Images**\\n\\n*   **Figure 1:** A diagram illustrating the components of a dynamic system\\n\\t+   Shows the relationships between input, output, and feedback loops\\n\\t+   Labels each component with its corresponding variable or parameter\\n*   **Figure 2:** A flowchart demonstrating the process of modeling a dynamic system\\n\\t+   Illustrates the steps involved in creating a mathematical model of a dynamic system\\n\\t+   Highlights the importance of data collection and validation in the modeling process\\n\\nIn summary, the document provides an overview of dynamic systems, their techniques, and applications. It highlights the challenges of modeling and controlling dynamic systems and introduces various techniques used to address these challenges. The document also includes diagrams and flowcharts to illustrate key concepts and processes.'},\n",
       " {'image_id': 'aef9fd24-f6ea-469a-9890-aa4d34cc50ec-11.jpg',\n",
       "  'summary': 'The image shows two pages from a document that appears to be related to research or academic writing. The text is written in a formal tone and includes technical terms and concepts.\\n\\n**Page 1:**\\n\\n*   **Header:** The top of the page has a header with the title \"Figure 4\" and some other text, but it is not fully visible.\\n*   **Text:** The main body of the text discusses the concept of \"significant difference in impact rate between the dominant and right-hand sides.\" It also mentions the use of \"non-parametric tests\" and \"ANOVA.\"\\n*   **Chart/Graph:** There is a chart or graph at the top left corner of the page, but it is not fully visible.\\n\\n**Page 2:**\\n\\n*   **Header:** The top of the page has a header with the title \"6.1 Balancing Performance and Durability\" and some other text.\\n*   **Text:** The main body of the text discusses the importance of balancing performance and durability in various contexts, including \"high-performance systems,\" \"low-latency environments,\" and \"data-intensive applications.\"\\n*   **Summary:** The text highlights the need to balance competing demands on resources and constraints to achieve optimal results.\\n\\n**Overall:**\\n\\n*   **Format:** The document appears to be a formal academic or research paper.\\n*   **Content:** The content discusses technical concepts and terminology related to data analysis, statistical testing, and system performance.\\n*   **Purpose:** The purpose of the document is likely to inform or educate readers about the importance of balancing competing demands in various contexts.'},\n",
       " {'image_id': 'aef9fd24-f6ea-469a-9890-aa4d34cc50ec-08.jpg',\n",
       "  'summary': 'The provided image appears to be pages 212-213 of a technical book or paper discussing various aspects of computer science and related fields.\\n\\n**Summary**\\n\\nThis page discusses several key concepts in computer science:\\n\\n* **Handling Failures**: The authors discuss how to handle failures in systems, including the use of redundancy and error correction codes.\\n* **Membership Detection**: They also explore methods for detecting membership in a set or group, using techniques such as hashing and Bloom filters.\\n* **Permanent Faults**: The authors examine the impact of permanent faults on system performance and reliability.\\n\\n**Key Sections**\\n\\nThe page is divided into several sections:\\n\\n* **Handling Failures**: This section discusses how to handle failures in systems, including the use of redundancy and error correction codes.\\n* **Membership Detection**: This section explores methods for detecting membership in a set or group, using techniques such as hashing and Bloom filters.\\n* **Permanent Faults**: This section examines the impact of permanent faults on system performance and reliability.\\n\\n**Visual Elements**\\n\\nThere are no images or charts on this page. The text is presented in a clear and readable format, with headings and subheadings used to organize the content.\\n\\nOverall, this page provides an overview of several important concepts in computer science, including handling failures, membership detection, and permanent faults.'},\n",
       " {'image_id': 'aef9fd24-f6ea-469a-9890-aa4d34cc50ec-09.jpg',\n",
       "  'summary': 'The image shows a page from a technical document discussing the implementation of a storage system. The text is written in black ink on white paper.\\n\\n**Summary:**\\n\\n*   The document discusses the implementation of a storage system.\\n*   It outlines the requirements for the system and how they will be met.\\n*   The document includes several sections, including \"4.8.2 Extracted Discussion\" and \"5. Implementation\".\\n*   There are no images or charts in the document.\\n\\n**Section Headers:**\\n\\n*   **4.8.2 Extracted Discussion**: This section discusses the requirements for the storage system.\\n*   **5. Implementation**: This section outlines how the requirements will be met.\\n*   **6. Conclusion**: This section summarizes the main points of the document.\\n\\n**Key Points:**\\n\\n*   The document requires a storage system that can handle large amounts of data.\\n*   The system must be able to store and retrieve data quickly and efficiently.\\n*   The document outlines several requirements for the system, including:\\n    *   A high level of reliability\\n    *   A low latency\\n    *   Scalability\\n\\n**Image/Chart Details:**\\n\\n*   There are no images or charts in the document.\\n\\nOverall, the document provides a detailed outline of the requirements and implementation of a storage system. It outlines several key points, including the need for a high level of reliability, low latency, and scalability. The document does not include any images or charts.'}]"
      ]
     },
     "execution_count": 26,
     "metadata": {},
     "output_type": "execute_result"
    }
   ],
   "source": [
    "image_summaries"
   ]
  },
  {
   "cell_type": "code",
   "execution_count": null,
   "metadata": {},
   "outputs": [],
   "source": []
  },
  {
   "cell_type": "code",
   "execution_count": 29,
   "metadata": {},
   "outputs": [],
   "source": [
    "with open('image_summaries.pkl', 'wb') as f:\n",
    "    pickle.dump(image_summaries, f)"
   ]
  },
  {
   "cell_type": "code",
   "execution_count": 25,
   "metadata": {},
   "outputs": [
    {
     "ename": "ModuleNotFoundError",
     "evalue": "No module named 'chromadb'",
     "output_type": "error",
     "traceback": [
      "\u001b[0;31m---------------------------------------------------------------------------\u001b[0m",
      "\u001b[0;31mModuleNotFoundError\u001b[0m                       Traceback (most recent call last)",
      "Cell \u001b[0;32mIn[25], line 1\u001b[0m\n\u001b[0;32m----> 1\u001b[0m \u001b[38;5;28;01mimport\u001b[39;00m \u001b[38;5;21;01mchromadb\u001b[39;00m\n\u001b[1;32m      3\u001b[0m chroma_client \u001b[38;5;241m=\u001b[39m chromadb\u001b[38;5;241m.\u001b[39mClient()\n",
      "\u001b[0;31mModuleNotFoundError\u001b[0m: No module named 'chromadb'"
     ]
    }
   ],
   "source": [
    "import chromadb\n",
    "\n",
    "chroma_client = chromadb.Client()"
   ]
  },
  {
   "cell_type": "code",
   "execution_count": null,
   "metadata": {},
   "outputs": [],
   "source": [
    "page_summary_collection = chroma_client.create_collection(name=\"page_summaries\", metadata={\"hnsw:space\": \"cosine\"})"
   ]
  }
 ],
 "metadata": {
  "kernelspec": {
   "display_name": "3.12.7",
   "language": "python",
   "name": "python3"
  },
  "language_info": {
   "codemirror_mode": {
    "name": "ipython",
    "version": 3
   },
   "file_extension": ".py",
   "mimetype": "text/x-python",
   "name": "python",
   "nbconvert_exporter": "python",
   "pygments_lexer": "ipython3",
   "version": "3.12.7"
  }
 },
 "nbformat": 4,
 "nbformat_minor": 2
}
